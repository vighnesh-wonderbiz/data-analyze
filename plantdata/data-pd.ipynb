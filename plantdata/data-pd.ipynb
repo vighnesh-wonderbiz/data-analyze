{
 "cells": [
  {
   "cell_type": "code",
   "execution_count": 364,
   "metadata": {},
   "outputs": [],
   "source": [
    "import pandas as pd\n",
    "import numpy as np\n",
    "import random\n",
    "import sqlite3 as sql\n",
    "from datetime import datetime, timedelta\n",
    "import os"
   ]
  },
  {
   "cell_type": "code",
   "execution_count": 365,
   "metadata": {},
   "outputs": [],
   "source": [
    "conn = sql.connect(\"el_2.db\")\n",
    "cur = conn.cursor()"
   ]
  },
  {
   "cell_type": "code",
   "execution_count": 366,
   "metadata": {},
   "outputs": [],
   "source": [
    "kpi = [\"KPI1\",\"KPI2\",\"KPI3\",\"KPI4\"]\n",
    "db_col = [\"Index\",\"EName\",*kpi,\"TimeStamp\"]\n",
    "weeks = [\"Week1\",\"Week2\",\"Week3\",\"CurrentHour\"]\n",
    "is_monday = True\n",
    "d = \"2024-09-15 22:00:00\"\n",
    "plant_data_col = [\"Week\",\"WeekStart\",\"WeekEnd\",\"IsUpdated\",*kpi]"
   ]
  },
  {
   "cell_type": "code",
   "execution_count": 367,
   "metadata": {},
   "outputs": [],
   "source": [
    "def truncate_table(cmd,name):\n",
    "    try:\n",
    "        q = f\"DROP TABLE {name}\" if cmd == 'Drop' else f\"DELETE FROM {name}\"\n",
    "        cur.execute(q)\n",
    "        conn.commit()\n",
    "    except Exception as e:\n",
    "        print(e)\n",
    "        raise"
   ]
  },
  {
   "cell_type": "code",
   "execution_count": 368,
   "metadata": {},
   "outputs": [],
   "source": [
    "# truncate_table('Drop','PlantData')"
   ]
  },
  {
   "cell_type": "code",
   "execution_count": 369,
   "metadata": {},
   "outputs": [],
   "source": [
    "def get_date(date):\n",
    "    currDate = datetime.strptime(date, '%Y-%m-%d %H:%M:%S')\n",
    "    return currDate"
   ]
  },
  {
   "cell_type": "code",
   "execution_count": 370,
   "metadata": {},
   "outputs": [],
   "source": [
    "def fetch_data_within_range(start,end):\n",
    "    try:\n",
    "        data = cur.execute(f\"SELECT EName, {\",\".join(kpi)}, TimeStamp from Transactions WHERE TimeStamp BETWEEN '{start}' AND '{end}';\")\n",
    "        selected_data = data.fetchall()\n",
    "        df = pd.DataFrame(selected_data,columns=[\"EName\",*kpi,\"TimeStamp\"])\n",
    "        return df\n",
    "    except sql.Error as e:\n",
    "        print(e)\n",
    "        return []"
   ]
  },
  {
   "cell_type": "code",
   "execution_count": 371,
   "metadata": {},
   "outputs": [],
   "source": [
    "def get_current_week_range(current_date):\n",
    "    current_date = current_date.replace(hour=0, minute=0, second=0, microsecond=0) \n",
    "    current_week_start = current_date - timedelta(days=current_date.weekday()) if is_monday else current_date\n",
    "    current_week_end = current_week_start  + timedelta(days=6, hours=23, minutes=59, seconds=59)\n",
    "    return current_week_start,current_week_end"
   ]
  },
  {
   "cell_type": "code",
   "execution_count": 372,
   "metadata": {},
   "outputs": [],
   "source": [
    "def get_prev_week_range(curr_week_start):\n",
    "    curr_week_start = curr_week_start.replace(hour=0, minute=0, second=0, microsecond=0)\n",
    "    prev_week_start = curr_week_start - timedelta(weeks=1)\n",
    "    prev_week_end = curr_week_start - timedelta(seconds=1)\n",
    "    return prev_week_start,prev_week_end"
   ]
  },
  {
   "cell_type": "code",
   "execution_count": 373,
   "metadata": {},
   "outputs": [],
   "source": [
    "def get_current_hour_range(current_hour):\n",
    "    current_hour = current_hour.replace(minute=0, second=0, microsecond=0)\n",
    "    prev_hour_end = current_hour - timedelta(hours=1)\n",
    "    return current_hour,prev_hour_end"
   ]
  },
  {
   "cell_type": "code",
   "execution_count": 374,
   "metadata": {},
   "outputs": [],
   "source": [
    "def table_exists(table_name):\n",
    "    query = \"SELECT * FROM sqlite_master WHERE type='table' AND name=?;\"\n",
    "    cur.execute(query, (table_name,))\n",
    "    result = cur.fetchone()\n",
    "    return result is not None"
   ]
  },
  {
   "cell_type": "code",
   "execution_count": 375,
   "metadata": {},
   "outputs": [],
   "source": [
    "def generate_plant_data():\n",
    "    cols = []\n",
    "    for i in kpi:\n",
    "        cols.append(i + \" REAL Default 0\")\n",
    "    query1 = f'''\n",
    "        CREATE TABLE IF Not Exists PlantData\n",
    "        (\n",
    "            Id INTEGER PRIMARY KEY,\n",
    "            Week TEXT NOT NULL,\n",
    "            WeekStart DATETIME DEFAULT \"1999-01-01 00:00:00\",\n",
    "            WeekEnd DATETIME DEFAULT \"1999-01-01 00:00:00\",\n",
    "            IsUpdated BOOLEAN DEFAULT FALSE,\n",
    "            {\", \".join(cols)}\n",
    "        )\n",
    "    '''\n",
    "    \n",
    "    w = []\n",
    "    for i in weeks:\n",
    "        w.append(f\"('{i}')\")\n",
    "\n",
    "    query2 = f'''\n",
    "        INSERT INTO PlantData (Week) VALUES {\", \".join(w)}\n",
    "    '''\n",
    "\n",
    "    try:\n",
    "        cur.execute(query1)\n",
    "        print(\"Table created\")\n",
    "        cur.execute(query2)\n",
    "        conn.commit()\n",
    "        print(\"Data inserted\")\n",
    "    except Exception as e:\n",
    "        print(e)\n",
    "        conn.rollback()\n",
    "        raise\n"
   ]
  },
  {
   "cell_type": "code",
   "execution_count": 376,
   "metadata": {},
   "outputs": [],
   "source": [
    "def check_week_data():\n",
    "    query = f'''SELECT IsUpdated, {\", \".join(kpi)} FROM PlantData'''\n",
    "    row = cur.execute(query)\n",
    "    rows = row.fetchall()\n",
    "    df = pd.DataFrame(rows,columns=[\"IsUpdated\",*kpi])\n",
    "    return True if df[\"IsUpdated\"].sum() >= len(df) else False"
   ]
  },
  {
   "cell_type": "code",
   "execution_count": 377,
   "metadata": {},
   "outputs": [],
   "source": [
    "def calculate_mean(data):\n",
    "    kpi_avg = np.round((data[kpi].mean()).infer_objects(copy=False).fillna(0),5).tolist()\n",
    "    return kpi_avg"
   ]
  },
  {
   "cell_type": "code",
   "execution_count": 378,
   "metadata": {},
   "outputs": [],
   "source": [
    "def fetch_weekly_data(d):\n",
    "    print(\"Fetching week data\")\n",
    "    df = pd.DataFrame(columns=plant_data_col)\n",
    "    current_week_start,_= get_current_week_range(d)\n",
    "    for i in weeks:\n",
    "        if i != \"CurrentHour\":\n",
    "            data_l = []\n",
    "            prev_week_start,prev_week_end = get_prev_week_range(current_week_start)\n",
    "            print(f\"Fetching {i}\",prev_week_start,prev_week_end)\n",
    "            prev_week_data = fetch_data_within_range(prev_week_start,prev_week_end)\n",
    "            calculated_mean = calculate_mean(prev_week_data)\n",
    "            data_l.extend([i,prev_week_start,prev_week_end,True])\n",
    "            data_l.extend(calculated_mean)\n",
    "            current_week_start = prev_week_start\n",
    "            df.loc[len(df)] = data_l\n",
    "            print(f\"{i} fetched\")\n",
    "    return df\n",
    "\n",
    "def fetch_hourly_data(d):\n",
    "    df = pd.DataFrame(columns=plant_data_col)\n",
    "    data_l = []\n",
    "    current_hour, prev_hour_start = get_current_hour_range(d)\n",
    "    current_week_start,current_week_end= get_current_week_range(d)\n",
    "    _,prev_week_end = get_prev_week_range(current_week_start)\n",
    "    print(\"Fetching hourly data\",current_hour, prev_hour_start)\n",
    "    curr_hour_data = fetch_data_within_range(prev_hour_start,current_hour)\n",
    "    calculated_mean = calculate_mean(curr_hour_data)\n",
    "    data_l.extend(['CurrentHour',current_week_start,current_week_end,True])\n",
    "    data_l.extend(calculated_mean)\n",
    "    df.loc[len(df)] = data_l\n",
    "    return df"
   ]
  },
  {
   "cell_type": "code",
   "execution_count": 379,
   "metadata": {},
   "outputs": [],
   "source": [
    "def current_h():\n",
    "    try:\n",
    "        q = '''SELECT * FROM PlantData WHERE WEEK = \"CurrentHour\"'''\n",
    "        data = cur.execute(q)\n",
    "        row = data.fetchone()\n",
    "        if row and len(row) > 0:\n",
    "            end_date = pd.Series(row)\n",
    "            return end_date[3]\n",
    "        return \"\"\n",
    "    except sql.Error as e:\n",
    "        print(e)\n",
    "        raise"
   ]
  },
  {
   "cell_type": "code",
   "execution_count": 380,
   "metadata": {},
   "outputs": [],
   "source": [
    "def is_weekend(d):\n",
    "    current_hour, _ = get_current_hour_range(d)\n",
    "    db_hour = current_h()\n",
    "    # print(db_hour)\n",
    "    curr_weekend = get_date(db_hour)\n",
    "    return current_hour >= curr_weekend"
   ]
  },
  {
   "cell_type": "code",
   "execution_count": 381,
   "metadata": {},
   "outputs": [],
   "source": [
    "def get_data_hourly(d):\n",
    "    d = get_date(d)\n",
    "    \n",
    "    if not table_exists(\"PlantData\"):\n",
    "        generate_plant_data()\n",
    "    \n",
    "    curr_df = fetch_hourly_data(d)\n",
    "    # print(type(d))\n",
    "    print(is_weekend(d))\n",
    "    \n",
    "    if is_weekend(d) or not check_week_data():\n",
    "        week_df = fetch_weekly_data(d)\n",
    "        df = pd.concat([week_df,curr_df],ignore_index=True)\n",
    "        return df\n",
    "    return curr_df"
   ]
  },
  {
   "cell_type": "code",
   "execution_count": 382,
   "metadata": {},
   "outputs": [],
   "source": [
    "def dump_data(df):\n",
    "    try:\n",
    "        if len(df) > 1:\n",
    "            query_1 = 'DELETE FROM PlantData'\n",
    "            cur.execute(query_1)\n",
    "            df.to_sql(\"PlantData\",conn,if_exists='replace')\n",
    "        else:\n",
    "            query_1 = '''\n",
    "                DELETE FROM PlantData\n",
    "                WHERE Week = 'CurrentHour';\n",
    "            '''\n",
    "            cur.execute(query_1)\n",
    "            df.to_sql('PlantData',conn,if_exists='append')\n",
    "        conn.commit()\n",
    "    except sql.Error as e:\n",
    "        print(e)\n",
    "        conn.rollback()\n",
    "        raise\n"
   ]
  },
  {
   "cell_type": "code",
   "execution_count": 383,
   "metadata": {},
   "outputs": [
    {
     "name": "stdout",
     "output_type": "stream",
     "text": [
      "Fetching hourly data 2024-09-16 00:00:00 2024-09-15 23:00:00\n",
      "True\n",
      "Fetching week data\n",
      "Fetching Week1 2024-09-09 00:00:00 2024-09-15 23:59:59\n",
      "Week1 fetched\n",
      "Fetching Week2 2024-09-02 00:00:00 2024-09-08 23:59:59\n",
      "Week2 fetched\n",
      "Fetching Week3 2024-08-26 00:00:00 2024-09-01 23:59:59\n",
      "Week3 fetched\n",
      "Fetching Week4 2024-08-19 00:00:00 2024-08-25 23:59:59\n",
      "Week4 fetched\n"
     ]
    }
   ],
   "source": [
    "bar_df = get_data_hourly(d)"
   ]
  },
  {
   "cell_type": "code",
   "execution_count": 384,
   "metadata": {},
   "outputs": [
    {
     "data": {
      "text/html": [
       "<div>\n",
       "<style scoped>\n",
       "    .dataframe tbody tr th:only-of-type {\n",
       "        vertical-align: middle;\n",
       "    }\n",
       "\n",
       "    .dataframe tbody tr th {\n",
       "        vertical-align: top;\n",
       "    }\n",
       "\n",
       "    .dataframe thead th {\n",
       "        text-align: right;\n",
       "    }\n",
       "</style>\n",
       "<table border=\"1\" class=\"dataframe\">\n",
       "  <thead>\n",
       "    <tr style=\"text-align: right;\">\n",
       "      <th></th>\n",
       "      <th>Week</th>\n",
       "      <th>WeekStart</th>\n",
       "      <th>WeekEnd</th>\n",
       "      <th>IsUpdated</th>\n",
       "      <th>KPI1</th>\n",
       "      <th>KPI2</th>\n",
       "    </tr>\n",
       "  </thead>\n",
       "  <tbody>\n",
       "    <tr>\n",
       "      <th>0</th>\n",
       "      <td>Week1</td>\n",
       "      <td>2024-09-09</td>\n",
       "      <td>2024-09-15 23:59:59</td>\n",
       "      <td>True</td>\n",
       "      <td>51.50074</td>\n",
       "      <td>31.50004</td>\n",
       "    </tr>\n",
       "    <tr>\n",
       "      <th>1</th>\n",
       "      <td>Week2</td>\n",
       "      <td>2024-09-02</td>\n",
       "      <td>2024-09-08 23:59:59</td>\n",
       "      <td>True</td>\n",
       "      <td>51.50016</td>\n",
       "      <td>31.50028</td>\n",
       "    </tr>\n",
       "    <tr>\n",
       "      <th>2</th>\n",
       "      <td>Week3</td>\n",
       "      <td>2024-08-26</td>\n",
       "      <td>2024-09-01 23:59:59</td>\n",
       "      <td>True</td>\n",
       "      <td>51.49819</td>\n",
       "      <td>31.50025</td>\n",
       "    </tr>\n",
       "    <tr>\n",
       "      <th>3</th>\n",
       "      <td>Week4</td>\n",
       "      <td>2024-08-19</td>\n",
       "      <td>2024-08-25 23:59:59</td>\n",
       "      <td>True</td>\n",
       "      <td>0.00000</td>\n",
       "      <td>0.00000</td>\n",
       "    </tr>\n",
       "    <tr>\n",
       "      <th>4</th>\n",
       "      <td>CurrentHour</td>\n",
       "      <td>2024-09-16</td>\n",
       "      <td>2024-09-22 23:59:59</td>\n",
       "      <td>True</td>\n",
       "      <td>51.51332</td>\n",
       "      <td>31.51600</td>\n",
       "    </tr>\n",
       "  </tbody>\n",
       "</table>\n",
       "</div>"
      ],
      "text/plain": [
       "          Week  WeekStart             WeekEnd  IsUpdated      KPI1      KPI2\n",
       "0        Week1 2024-09-09 2024-09-15 23:59:59       True  51.50074  31.50004\n",
       "1        Week2 2024-09-02 2024-09-08 23:59:59       True  51.50016  31.50028\n",
       "2        Week3 2024-08-26 2024-09-01 23:59:59       True  51.49819  31.50025\n",
       "3        Week4 2024-08-19 2024-08-25 23:59:59       True   0.00000   0.00000\n",
       "4  CurrentHour 2024-09-16 2024-09-22 23:59:59       True  51.51332  31.51600"
      ]
     },
     "execution_count": 384,
     "metadata": {},
     "output_type": "execute_result"
    }
   ],
   "source": [
    "bar_df.head()"
   ]
  },
  {
   "cell_type": "code",
   "execution_count": 385,
   "metadata": {},
   "outputs": [],
   "source": [
    "dump_data(bar_df)"
   ]
  },
  {
   "cell_type": "code",
   "execution_count": 386,
   "metadata": {},
   "outputs": [],
   "source": [
    "def select_bar_data():\n",
    "    try:\n",
    "        _ = '''SELECT * FROM PlantData;'''\n",
    "        rows = cur.execute(_)\n",
    "        data = rows.fetchall()\n",
    "        df = pd.DataFrame(data,columns=[\"Index\",*plant_data_col])\n",
    "        return df\n",
    "    except sql.Error as e:\n",
    "        print(e)\n",
    "        raise\n"
   ]
  },
  {
   "cell_type": "code",
   "execution_count": 387,
   "metadata": {},
   "outputs": [],
   "source": [
    "def convert_string(l):\n",
    "    temp = []\n",
    "    for i in l:\n",
    "        temp.append(str(i))\n",
    "    l_str = \", \".join(temp)\n",
    "    return str(l_str)"
   ]
  },
  {
   "cell_type": "code",
   "execution_count": 1,
   "metadata": {},
   "outputs": [],
   "source": [
    "def fetch_bar_data():\n",
    "    db_data = select_bar_data()\n",
    "    bar_data = db_data.tail(len(weeks))\n",
    "    bar_data_dict = {\n",
    "        'x':\", \".join(weeks),\n",
    "        'y':\", \".join(kpi)\n",
    "    }\n",
    "    for i in range(0,len(weeks)):\n",
    "        bar_data_dict[f\"{weeks[i]}\"] = convert_string(bar_data[[*kpi]].loc[i].tolist())\n",
    "\n",
    "    return bar_data_dict"
   ]
  },
  {
   "cell_type": "code",
   "execution_count": 389,
   "metadata": {},
   "outputs": [
    {
     "data": {
      "text/plain": [
       "{'x': 'Week1,Week2,Week3,Week4,CurrentHour',\n",
       " 'Week1': '51.50074, 31.50004',\n",
       " 'Week2': '51.50016, 31.50028',\n",
       " 'Week3': '51.49819, 31.50025',\n",
       " 'Week4': '0.0, 0.0',\n",
       " 'CurrentHour': '51.51332, 31.516'}"
      ]
     },
     "execution_count": 389,
     "metadata": {},
     "output_type": "execute_result"
    }
   ],
   "source": [
    "fetch_bar_data()"
   ]
  },
  {
   "cell_type": "code",
   "execution_count": null,
   "metadata": {},
   "outputs": [],
   "source": []
  }
 ],
 "metadata": {
  "kernelspec": {
   "display_name": "pandas-venv",
   "language": "python",
   "name": "python3"
  },
  "language_info": {
   "codemirror_mode": {
    "name": "ipython",
    "version": 3
   },
   "file_extension": ".py",
   "mimetype": "text/x-python",
   "name": "python",
   "nbconvert_exporter": "python",
   "pygments_lexer": "ipython3",
   "version": "3.12.4"
  }
 },
 "nbformat": 4,
 "nbformat_minor": 2
}
