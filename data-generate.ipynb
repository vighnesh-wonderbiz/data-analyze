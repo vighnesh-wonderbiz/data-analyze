{
 "cells": [
  {
   "cell_type": "code",
   "execution_count": 7,
   "metadata": {},
   "outputs": [],
   "source": [
    "import pandas as pd\n",
    "import numpy as np\n",
    "import random\n",
    "import sqlite3 as sql\n",
    "from datetime import datetime, timedelta\n",
    "import os"
   ]
  },
  {
   "cell_type": "code",
   "execution_count": 8,
   "metadata": {},
   "outputs": [],
   "source": [
    "conn = sql.connect(\"el_2.db\")\n",
    "cur = conn.cursor()"
   ]
  },
  {
   "cell_type": "code",
   "execution_count": 9,
   "metadata": {},
   "outputs": [],
   "source": [
    "db_col = [\"Index\",\"EName\",\"KPI1\",\"KPI2\",\"KPI3\",\"KPI4\",\"TimeStamp\"]\n",
    "kpi = [\"KPI1\",\"KPI2\",\"KPI3\",\"KPI4\"]"
   ]
  },
  {
   "cell_type": "code",
   "execution_count": 11,
   "metadata": {},
   "outputs": [],
   "source": [
    "def truncate_table(cmd,name):\n",
    "    q = f\"DROP TABLE {name}\" if cmd == 'Drop' else f\"DELETE FROM {name}\"\n",
    "    cur.execute(q)\n",
    "    conn.commit()\n",
    "\n",
    "def create_table():\n",
    "    cur.execute('''\n",
    "        CREATE TABLE IF NOT EXISTS Transactions(\n",
    "            Id INTEGER PRIMARY KEY AUTOINCREMENT,\n",
    "            EName TEXT NOT NULL,    \n",
    "            KPI1 REAL DEFAULT 0,\n",
    "            KPI2 REAL DEFAULT 0,\n",
    "            KPI3 REAL DEFAULT 0,\n",
    "            KPI4 REAL DEFAULT 0,\n",
    "            TimeStamp TEXT NOT NULL\n",
    "        );\n",
    "    ''')\n",
    "    conn.commit()"
   ]
  },
  {
   "cell_type": "code",
   "execution_count": 12,
   "metadata": {},
   "outputs": [],
   "source": [
    "# truncate_table('Drop','Transactions')"
   ]
  },
  {
   "cell_type": "code",
   "execution_count": 13,
   "metadata": {},
   "outputs": [],
   "source": [
    "def generate_daily_data(days):\n",
    "    e_list = []\n",
    "    k1 = []\n",
    "    k2 = []\n",
    "    k3 = []\n",
    "    k4 = []\n",
    "    t = []\n",
    "    daily_seconds = 24*60*60\n",
    "    timestamps = pd.date_range(start='2024-09-01 00:00:00', periods=days *daily_seconds, freq='s')\n",
    "    for j in range(0,daily_seconds * days):\n",
    "        for i in range(1,11):\n",
    "            e = 'EL0' if i < 10 else 'EL' + str(i)\n",
    "            k1Val = random.uniform(48,55)\n",
    "            k2Val = random.uniform(28,35)\n",
    "            k3Val = random.uniform(1,2.5)\n",
    "            k4Val = random.uniform(490,510)\n",
    "            tVal = timestamps[j]\n",
    "            e_list.append(e)  \n",
    "            t.append(tVal)\n",
    "            k1.append(k1Val)\n",
    "            k2.append(k2Val)\n",
    "            k3.append(k3Val)\n",
    "            k4.append(k4Val)\n",
    "    data = {\n",
    "        \"EName\":e_list,\n",
    "        \"KPI1\":k1,\n",
    "        \"KPI2\":k2,\n",
    "        \"KPI3\":k3,\n",
    "        \"KPI4\":k4,\n",
    "        \"TimeStamp\":t\n",
    "    }\n",
    "    df = pd.DataFrame(data)\n",
    "    return df"
   ]
  },
  {
   "cell_type": "code",
   "execution_count": 14,
   "metadata": {},
   "outputs": [
    {
     "name": "stdout",
     "output_type": "stream",
     "text": [
      "12960000\n"
     ]
    },
    {
     "data": {
      "text/html": [
       "<div>\n",
       "<style scoped>\n",
       "    .dataframe tbody tr th:only-of-type {\n",
       "        vertical-align: middle;\n",
       "    }\n",
       "\n",
       "    .dataframe tbody tr th {\n",
       "        vertical-align: top;\n",
       "    }\n",
       "\n",
       "    .dataframe thead th {\n",
       "        text-align: right;\n",
       "    }\n",
       "</style>\n",
       "<table border=\"1\" class=\"dataframe\">\n",
       "  <thead>\n",
       "    <tr style=\"text-align: right;\">\n",
       "      <th></th>\n",
       "      <th>EName</th>\n",
       "      <th>KPI1</th>\n",
       "      <th>KPI2</th>\n",
       "      <th>KPI3</th>\n",
       "      <th>KPI4</th>\n",
       "      <th>TimeStamp</th>\n",
       "    </tr>\n",
       "  </thead>\n",
       "  <tbody>\n",
       "    <tr>\n",
       "      <th>0</th>\n",
       "      <td>EL0</td>\n",
       "      <td>48.645606</td>\n",
       "      <td>32.677675</td>\n",
       "      <td>1.979270</td>\n",
       "      <td>498.548756</td>\n",
       "      <td>2024-09-01</td>\n",
       "    </tr>\n",
       "    <tr>\n",
       "      <th>1</th>\n",
       "      <td>EL0</td>\n",
       "      <td>52.320402</td>\n",
       "      <td>33.039035</td>\n",
       "      <td>1.157428</td>\n",
       "      <td>491.097470</td>\n",
       "      <td>2024-09-01</td>\n",
       "    </tr>\n",
       "    <tr>\n",
       "      <th>2</th>\n",
       "      <td>EL0</td>\n",
       "      <td>50.041693</td>\n",
       "      <td>30.468551</td>\n",
       "      <td>1.571091</td>\n",
       "      <td>499.174003</td>\n",
       "      <td>2024-09-01</td>\n",
       "    </tr>\n",
       "    <tr>\n",
       "      <th>3</th>\n",
       "      <td>EL0</td>\n",
       "      <td>52.685471</td>\n",
       "      <td>29.935741</td>\n",
       "      <td>1.064911</td>\n",
       "      <td>508.555751</td>\n",
       "      <td>2024-09-01</td>\n",
       "    </tr>\n",
       "    <tr>\n",
       "      <th>4</th>\n",
       "      <td>EL0</td>\n",
       "      <td>53.641256</td>\n",
       "      <td>28.801699</td>\n",
       "      <td>1.642296</td>\n",
       "      <td>503.277794</td>\n",
       "      <td>2024-09-01</td>\n",
       "    </tr>\n",
       "  </tbody>\n",
       "</table>\n",
       "</div>"
      ],
      "text/plain": [
       "  EName       KPI1       KPI2      KPI3        KPI4  TimeStamp\n",
       "0   EL0  48.645606  32.677675  1.979270  498.548756 2024-09-01\n",
       "1   EL0  52.320402  33.039035  1.157428  491.097470 2024-09-01\n",
       "2   EL0  50.041693  30.468551  1.571091  499.174003 2024-09-01\n",
       "3   EL0  52.685471  29.935741  1.064911  508.555751 2024-09-01\n",
       "4   EL0  53.641256  28.801699  1.642296  503.277794 2024-09-01"
      ]
     },
     "execution_count": 14,
     "metadata": {},
     "output_type": "execute_result"
    }
   ],
   "source": [
    "# if os.path.exists(\"./data.csv\"):\n",
    "#     print(\"file exists\")\n",
    "#     data = pd.read_csv(\"./data.csv\")\n",
    "# else:\n",
    "#     print(\"generating data...\")\n",
    "data = generate_daily_data(15)\n",
    "data.to_csv(\"./data_2.csv\")\n",
    "data.to_sql('Transactions',conn)\n",
    "\n",
    "print(len(data))\n",
    "data.head()"
   ]
  },
  {
   "cell_type": "code",
   "execution_count": 8,
   "metadata": {},
   "outputs": [],
   "source": [
    "def get_date(date):\n",
    "    currDate = datetime.strptime(date, '%Y-%m-%d %H:%M:%S')\n",
    "    return currDate"
   ]
  },
  {
   "cell_type": "code",
   "execution_count": 9,
   "metadata": {},
   "outputs": [],
   "source": [
    "def get_KPI_avg(data):\n",
    "    res = []\n",
    "    for i in range(1,11):\n",
    "        # el = 'EL0' if i < 10 else 'EL'\n",
    "        el = \"EL\" + str(i)\n",
    "        el_data = data[data[\"EName\"] == el][kpi]\n",
    "        kpi_means = {j: np.round(el_data[j].mean(), 4).item() if not np.isnan(el_data[j].mean()) else 0.00 for j in kpi}\n",
    "        res.append({el: kpi_means})\n",
    "    kpi_avg = np.round((data[kpi].mean()).infer_objects(copy=False).fillna(0),4).to_dict()\n",
    "    res.append({\"total\": kpi_avg})\n",
    "    return res"
   ]
  },
  {
   "cell_type": "code",
   "execution_count": 10,
   "metadata": {},
   "outputs": [],
   "source": [
    "def fetch_data_within_range(start,end):\n",
    "    try:\n",
    "        d = cur.execute(f\"SELECT * from Transactions WHERE TimeStamp BETWEEN '{start}' AND '{end}';\")\n",
    "        selected_data = d.fetchall()\n",
    "        return selected_data\n",
    "    except sql.Error as e:\n",
    "        print(e)\n",
    "        return []"
   ]
  },
  {
   "cell_type": "code",
   "execution_count": 11,
   "metadata": {},
   "outputs": [],
   "source": [
    "def create_df(data,col):\n",
    "    data_df = pd.DataFrame(data,columns=col)\n",
    "    return data_df"
   ]
  },
  {
   "cell_type": "code",
   "execution_count": 12,
   "metadata": {},
   "outputs": [],
   "source": [
    "def get_prev_week_range(curr_week_start):\n",
    "    prev_week_start = curr_week_start - timedelta(weeks=1)\n",
    "    prev_week_end = curr_week_start - timedelta(seconds=1)\n",
    "    return prev_week_start,prev_week_end"
   ]
  },
  {
   "cell_type": "code",
   "execution_count": 13,
   "metadata": {},
   "outputs": [],
   "source": [
    "def get_current_week_range(current_date):\n",
    "    current_week_start = current_date - timedelta(days=current_date.weekday())\n",
    "    current_week_end = current_date + timedelta(days=6-current_date.weekday()) + timedelta(seconds=86399)\n",
    "    return current_week_start,current_week_end"
   ]
  },
  {
   "cell_type": "code",
   "execution_count": 25,
   "metadata": {},
   "outputs": [],
   "source": [
    "def get_current_hour_range(current_hour):\n",
    "    prev_hour_end = current_hour - timedelta(hours=1)\n",
    "    return current_hour,prev_hour_end"
   ]
  },
  {
   "cell_type": "code",
   "execution_count": 31,
   "metadata": {},
   "outputs": [
    {
     "name": "stdout",
     "output_type": "stream",
     "text": [
      "current:  2024-09-05 00:10:00 2024-09-02 00:10:00 2024-09-02 00:10:00\n",
      "prev:  2024-08-26 00:10:00 2024-09-02 00:09:59\n",
      "prev 2:  2024-08-19 00:10:00 2024-08-26 00:09:59\n"
     ]
    }
   ],
   "source": [
    "d = get_date('2024-09-05 00:10:00')\n",
    "\n",
    "current_hour, prev_hour_end = d, d-timedelta(d.weekday())\n",
    "current_week_start=d - timedelta(days=d.weekday())\n",
    "\n",
    "prev_week_start,prev_week_end = get_prev_week_range(current_week_start)\n",
    "prev_2_week_start,prev_2_week_end = get_prev_week_range(prev_week_start)\n",
    "\n",
    "print(\"current: \",current_hour,prev_hour_end,current_week_start)\n",
    "print(\"prev: \",prev_week_start,prev_week_end)\n",
    "print(\"prev 2: \",prev_2_week_start,prev_2_week_end)"
   ]
  },
  {
   "cell_type": "code",
   "execution_count": 20,
   "metadata": {},
   "outputs": [
    {
     "name": "stdout",
     "output_type": "stream",
     "text": [
      "864000 0\n"
     ]
    }
   ],
   "source": [
    "curr_week_data = fetch_data_within_range(current_week_start,d)\n",
    "week1_data = fetch_data_within_range(prev_week_start,prev_week_end)\n",
    "week2_data = fetch_data_within_range(prev_2_week_start,prev_2_week_end)\n",
    "\n",
    "print(len(week1_data),len(week2_data))"
   ]
  },
  {
   "cell_type": "code",
   "execution_count": 21,
   "metadata": {},
   "outputs": [
    {
     "name": "stdout",
     "output_type": "stream",
     "text": [
      "   Index EName       KPI1       KPI2      KPI3        KPI4  \\\n",
      "0      0   EL1  50.472902  33.787028  1.698933  502.731440   \n",
      "1      1   EL2  48.582651  32.049887  1.953103  490.827532   \n",
      "\n",
      "             TimeStamp  \n",
      "0  2024-09-01 00:00:00  \n",
      "1  2024-09-01 00:00:00  \n",
      "Empty DataFrame\n",
      "Columns: [Index, EName, KPI1, KPI2, KPI3, KPI4, TimeStamp]\n",
      "Index: []\n"
     ]
    }
   ],
   "source": [
    "curr_df = create_df(curr_week_data,db_col)\n",
    "week1_df = create_df(week1_data,db_col)\n",
    "week2_df = create_df(week2_data,db_col)\n",
    "\n",
    "print(week1_df.head(2))\n",
    "print(week2_df.head(2))"
   ]
  },
  {
   "cell_type": "code",
   "execution_count": 22,
   "metadata": {},
   "outputs": [],
   "source": [
    "curr_week = get_KPI_avg(curr_df)\n",
    "week1_avg = get_KPI_avg(week1_df)\n",
    "week2_avg = get_KPI_avg(week2_df)"
   ]
  },
  {
   "cell_type": "code",
   "execution_count": 23,
   "metadata": {},
   "outputs": [
    {
     "data": {
      "text/plain": [
       "[{'EL1': {'KPI1': 50.5018, 'KPI2': 32.498, 'KPI3': 1.5001, 'KPI4': 497.5128}},\n",
       " {'EL2': {'KPI1': 50.4971, 'KPI2': 32.4992, 'KPI3': 1.5004, 'KPI4': 497.4925}},\n",
       " {'EL3': {'KPI1': 50.4987, 'KPI2': 32.4956, 'KPI3': 1.5, 'KPI4': 497.5014}},\n",
       " {'EL4': {'KPI1': 50.5034, 'KPI2': 32.5035, 'KPI3': 1.5002, 'KPI4': 497.5057}},\n",
       " {'EL5': {'KPI1': 50.5008, 'KPI2': 32.5033, 'KPI3': 1.4999, 'KPI4': 497.5126}},\n",
       " {'EL6': {'KPI1': 50.5013, 'KPI2': 32.5035, 'KPI3': 1.5, 'KPI4': 497.5006}},\n",
       " {'EL7': {'KPI1': 50.5016, 'KPI2': 32.495, 'KPI3': 1.5004, 'KPI4': 497.4841}},\n",
       " {'EL8': {'KPI1': 50.4977, 'KPI2': 32.5036, 'KPI3': 1.5002, 'KPI4': 497.5034}},\n",
       " {'EL9': {'KPI1': 50.499, 'KPI2': 32.501, 'KPI3': 1.4996, 'KPI4': 497.5022}},\n",
       " {'EL10': {'KPI1': 50.4981,\n",
       "   'KPI2': 32.5015,\n",
       "   'KPI3': 1.4996,\n",
       "   'KPI4': 497.4941}},\n",
       " {'total': {'KPI1': 50.5, 'KPI2': 32.5004, 'KPI3': 1.5, 'KPI4': 497.501}}]"
      ]
     },
     "execution_count": 23,
     "metadata": {},
     "output_type": "execute_result"
    }
   ],
   "source": [
    "curr_week"
   ]
  }
 ],
 "metadata": {
  "kernelspec": {
   "display_name": ".venv",
   "language": "python",
   "name": "python3"
  },
  "language_info": {
   "codemirror_mode": {
    "name": "ipython",
    "version": 3
   },
   "file_extension": ".py",
   "mimetype": "text/x-python",
   "name": "python",
   "nbconvert_exporter": "python",
   "pygments_lexer": "ipython3",
   "version": "3.12.4"
  }
 },
 "nbformat": 4,
 "nbformat_minor": 2
}
