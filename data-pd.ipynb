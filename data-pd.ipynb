{
 "cells": [
  {
   "cell_type": "code",
   "execution_count": 3,
   "metadata": {},
   "outputs": [],
   "source": [
    "import pandas as pd\n",
    "import numpy as np\n",
    "import random\n",
    "import sqlite3 as sql\n",
    "from datetime import datetime, timedelta\n",
    "import os"
   ]
  },
  {
   "cell_type": "code",
   "execution_count": 120,
   "metadata": {},
   "outputs": [],
   "source": [
    "conn = sql.connect(\"el.db\")\n",
    "cur = conn.cursor()"
   ]
  },
  {
   "cell_type": "code",
   "execution_count": 101,
   "metadata": {},
   "outputs": [],
   "source": [
    "db_col = [\"Index\",\"EName\",\"KPI1\",\"KPI2\",\"KPI3\",\"KPI4\",\"TimeStamp\"]\n",
    "kpi = [\"KPI1\",\"KPI2\",\"KPI3\",\"KPI4\"]\n",
    "is_monday = False"
   ]
  },
  {
   "cell_type": "code",
   "execution_count": 166,
   "metadata": {},
   "outputs": [],
   "source": [
    "def truncate_table(cmd,name):\n",
    "    try:\n",
    "        q = f\"DROP TABLE {name}\" if cmd == 'Drop' else f\"DELETE FROM {name}\"\n",
    "        cur.execute(q)\n",
    "        conn.commit()\n",
    "    except Exception as e:\n",
    "        print(e)\n",
    "        raise\n",
    "\n",
    "def create_table():\n",
    "    cur.execute('''\n",
    "        CREATE TABLE IF NOT EXISTS Transactions(\n",
    "            Id INTEGER PRIMARY KEY AUTOINCREMENT,\n",
    "            EName TEXT NOT NULL,    \n",
    "            KPI1 REAL DEFAULT 0,\n",
    "            KPI2 REAL DEFAULT 0,\n",
    "            KPI3 REAL DEFAULT 0,\n",
    "            KPI4 REAL DEFAULT 0,\n",
    "            TimeStamp TEXT NOT NULL\n",
    "        );\n",
    "    ''')\n",
    "    conn.commit()"
   ]
  },
  {
   "cell_type": "code",
   "execution_count": 7,
   "metadata": {},
   "outputs": [],
   "source": [
    "def generate_daily_data(days):\n",
    "    e_list = []\n",
    "    k1 = []\n",
    "    k2 = []\n",
    "    k3 = []\n",
    "    k4 = []\n",
    "    t = []\n",
    "    daily_seconds = 24*60*60\n",
    "    timestamps = pd.date_range(start='2024-09-01 00:00:00', periods=days *daily_seconds, freq='s')\n",
    "    for j in range(0,daily_seconds * days):\n",
    "        for i in range(1,11):\n",
    "            e = 'EL0' if i < 10 else 'EL' + str(i)\n",
    "            k1Val = random.uniform(48,53)\n",
    "            k2Val = random.uniform(30,35)\n",
    "            k3Val = random.uniform(1,2)\n",
    "            k4Val = random.uniform(490,505)\n",
    "            tVal = timestamps[j]\n",
    "            e_list.append(e)  \n",
    "            t.append(tVal)\n",
    "            k1.append(k1Val)\n",
    "            k2.append(k2Val)\n",
    "            k3.append(k3Val)\n",
    "            k4.append(k4Val)\n",
    "    data = {\n",
    "        \"EName\":e_list,\n",
    "        \"KPI1\":k1,\n",
    "        \"KPI2\":k2,\n",
    "        \"KPI3\":k3,\n",
    "        \"KPI4\":k4,\n",
    "        \"TimeStamp\":t\n",
    "    }\n",
    "    df = pd.DataFrame(data)\n",
    "    return df"
   ]
  },
  {
   "cell_type": "code",
   "execution_count": 8,
   "metadata": {},
   "outputs": [
    {
     "name": "stdout",
     "output_type": "stream",
     "text": [
      "file exists\n",
      "12960000\n"
     ]
    },
    {
     "data": {
      "text/html": [
       "<div>\n",
       "<style scoped>\n",
       "    .dataframe tbody tr th:only-of-type {\n",
       "        vertical-align: middle;\n",
       "    }\n",
       "\n",
       "    .dataframe tbody tr th {\n",
       "        vertical-align: top;\n",
       "    }\n",
       "\n",
       "    .dataframe thead th {\n",
       "        text-align: right;\n",
       "    }\n",
       "</style>\n",
       "<table border=\"1\" class=\"dataframe\">\n",
       "  <thead>\n",
       "    <tr style=\"text-align: right;\">\n",
       "      <th></th>\n",
       "      <th>Unnamed: 0</th>\n",
       "      <th>EName</th>\n",
       "      <th>KPI1</th>\n",
       "      <th>KPI2</th>\n",
       "      <th>KPI3</th>\n",
       "      <th>KPI4</th>\n",
       "      <th>TimeStamp</th>\n",
       "    </tr>\n",
       "  </thead>\n",
       "  <tbody>\n",
       "    <tr>\n",
       "      <th>0</th>\n",
       "      <td>0</td>\n",
       "      <td>EL1</td>\n",
       "      <td>50.472902</td>\n",
       "      <td>33.787028</td>\n",
       "      <td>1.698933</td>\n",
       "      <td>502.731440</td>\n",
       "      <td>2024-09-01 00:00:00</td>\n",
       "    </tr>\n",
       "    <tr>\n",
       "      <th>1</th>\n",
       "      <td>1</td>\n",
       "      <td>EL2</td>\n",
       "      <td>48.582651</td>\n",
       "      <td>32.049887</td>\n",
       "      <td>1.953103</td>\n",
       "      <td>490.827532</td>\n",
       "      <td>2024-09-01 00:00:00</td>\n",
       "    </tr>\n",
       "    <tr>\n",
       "      <th>2</th>\n",
       "      <td>2</td>\n",
       "      <td>EL3</td>\n",
       "      <td>48.305235</td>\n",
       "      <td>32.755450</td>\n",
       "      <td>1.177142</td>\n",
       "      <td>496.012453</td>\n",
       "      <td>2024-09-01 00:00:00</td>\n",
       "    </tr>\n",
       "    <tr>\n",
       "      <th>3</th>\n",
       "      <td>3</td>\n",
       "      <td>EL4</td>\n",
       "      <td>52.543139</td>\n",
       "      <td>32.256765</td>\n",
       "      <td>1.467176</td>\n",
       "      <td>496.114154</td>\n",
       "      <td>2024-09-01 00:00:00</td>\n",
       "    </tr>\n",
       "    <tr>\n",
       "      <th>4</th>\n",
       "      <td>4</td>\n",
       "      <td>EL5</td>\n",
       "      <td>51.064158</td>\n",
       "      <td>31.798667</td>\n",
       "      <td>1.519589</td>\n",
       "      <td>497.176418</td>\n",
       "      <td>2024-09-01 00:00:00</td>\n",
       "    </tr>\n",
       "  </tbody>\n",
       "</table>\n",
       "</div>"
      ],
      "text/plain": [
       "   Unnamed: 0 EName       KPI1       KPI2      KPI3        KPI4  \\\n",
       "0           0   EL1  50.472902  33.787028  1.698933  502.731440   \n",
       "1           1   EL2  48.582651  32.049887  1.953103  490.827532   \n",
       "2           2   EL3  48.305235  32.755450  1.177142  496.012453   \n",
       "3           3   EL4  52.543139  32.256765  1.467176  496.114154   \n",
       "4           4   EL5  51.064158  31.798667  1.519589  497.176418   \n",
       "\n",
       "             TimeStamp  \n",
       "0  2024-09-01 00:00:00  \n",
       "1  2024-09-01 00:00:00  \n",
       "2  2024-09-01 00:00:00  \n",
       "3  2024-09-01 00:00:00  \n",
       "4  2024-09-01 00:00:00  "
      ]
     },
     "execution_count": 8,
     "metadata": {},
     "output_type": "execute_result"
    }
   ],
   "source": [
    "if os.path.exists(\"./data.csv\"):\n",
    "    print(\"file exists\")\n",
    "    data = pd.read_csv(\"./data.csv\")\n",
    "else:\n",
    "    print(\"generating data...\")\n",
    "    data = generate_daily_data(15)\n",
    "    data.to_csv(\"./data.csv\")\n",
    "    data.to_sql('Transactions',conn)\n",
    "\n",
    "print(len(data))\n",
    "data.head()"
   ]
  },
  {
   "cell_type": "code",
   "execution_count": 9,
   "metadata": {},
   "outputs": [],
   "source": [
    "def get_date(date):\n",
    "    currDate = datetime.strptime(date, '%Y-%m-%d %H:%M:%S')\n",
    "    return currDate"
   ]
  },
  {
   "cell_type": "code",
   "execution_count": 10,
   "metadata": {},
   "outputs": [],
   "source": [
    "def get_KPI_avg(data):\n",
    "    res = []\n",
    "    for i in range(1,11):\n",
    "        # el = 'EL0' if i < 10 else 'EL'\n",
    "        el = \"EL\" + str(i)\n",
    "        el_data = data[data[\"EName\"] == el][kpi]\n",
    "        kpi_means = {j: np.round(el_data[j].mean(), 4).item() if not np.isnan(el_data[j].mean()) else 0.00 for j in kpi}\n",
    "        res.append({el: kpi_means})\n",
    "    kpi_avg = np.round((data[kpi].mean()).infer_objects(copy=False).fillna(0),4).to_dict()\n",
    "    res.append({\"total\": kpi_avg})\n",
    "    return res"
   ]
  },
  {
   "cell_type": "code",
   "execution_count": 11,
   "metadata": {},
   "outputs": [],
   "source": [
    "def fetch_data_within_range(start,end):\n",
    "    try:\n",
    "        d = cur.execute(f\"SELECT * from Transactions WHERE TimeStamp BETWEEN '{start}' AND '{end}';\")\n",
    "        selected_data = d.fetchall()\n",
    "        return selected_data\n",
    "    except sql.Error as e:\n",
    "        print(e)\n",
    "        return []"
   ]
  },
  {
   "cell_type": "code",
   "execution_count": 12,
   "metadata": {},
   "outputs": [],
   "source": [
    "def create_df(data,col):\n",
    "    data_df = pd.DataFrame(data,columns=col)\n",
    "    return data_df"
   ]
  },
  {
   "cell_type": "code",
   "execution_count": 105,
   "metadata": {},
   "outputs": [],
   "source": [
    "def get_prev_week_range(curr_week_start):\n",
    "    curr_week_start = curr_week_start.replace(hour=0, minute=0, second=0, microsecond=0)\n",
    "    prev_week_start = curr_week_start - timedelta(weeks=1)\n",
    "    prev_week_end = curr_week_start - timedelta(seconds=1)\n",
    "    return prev_week_start,prev_week_end"
   ]
  },
  {
   "cell_type": "code",
   "execution_count": 106,
   "metadata": {},
   "outputs": [],
   "source": [
    "def get_current_hour_range(current_hour):\n",
    "    current_hour = current_hour.replace(minute=0, second=0, microsecond=0)\n",
    "    prev_hour_end = current_hour - timedelta(hours=1)\n",
    "    return current_hour,prev_hour_end"
   ]
  },
  {
   "cell_type": "code",
   "execution_count": 109,
   "metadata": {},
   "outputs": [
    {
     "name": "stdout",
     "output_type": "stream",
     "text": [
      "current:  2024-09-12 00:00:00 2024-09-11 23:00:00\n",
      "prev:  2024-09-05 00:00:00 2024-09-11 23:59:59\n",
      "prev 2:  2024-08-29 00:00:00 2024-09-04 23:59:59\n"
     ]
    }
   ],
   "source": [
    "d = get_date('2024-09-12 00:10:00')\n",
    "\n",
    "current_hour, prev_hour_start = get_current_hour_range(d)\n",
    "current_week_start= d - timedelta(days=d.weekday()) if is_monday else d\n",
    "\n",
    "prev_week_start,prev_week_end = get_prev_week_range(current_week_start)\n",
    "prev_2_week_start,prev_2_week_end = get_prev_week_range(prev_week_start)\n",
    "\n",
    "print(\"current: \",current_hour,prev_hour_start)\n",
    "print(\"prev: \",prev_week_start,prev_week_end)\n",
    "print(\"prev 2: \",prev_2_week_start,prev_2_week_end)"
   ]
  },
  {
   "cell_type": "code",
   "execution_count": 16,
   "metadata": {},
   "outputs": [],
   "source": [
    "curr_hour_data = fetch_data_within_range(prev_hour_start,current_hour)\n",
    "prev_week_data = fetch_data_within_range(prev_week_start,prev_week_end)\n",
    "prev_2_week_data = fetch_data_within_range(prev_2_week_start,prev_2_week_end)"
   ]
  },
  {
   "cell_type": "code",
   "execution_count": 17,
   "metadata": {},
   "outputs": [
    {
     "name": "stdout",
     "output_type": "stream",
     "text": [
      "36010 864010 0\n"
     ]
    }
   ],
   "source": [
    "print(len(curr_hour_data),len(prev_week_data),len(prev_2_week_data))"
   ]
  },
  {
   "cell_type": "code",
   "execution_count": 18,
   "metadata": {},
   "outputs": [],
   "source": [
    "curr_hour_df = pd.DataFrame(curr_hour_data,columns=db_col)\n",
    "prev_week_df = pd.DataFrame(prev_week_data,columns=db_col)\n",
    "prev_2_week_df = pd.DataFrame(prev_2_week_data,columns=db_col)"
   ]
  },
  {
   "cell_type": "code",
   "execution_count": 91,
   "metadata": {},
   "outputs": [],
   "source": [
    "def get_week_number(curr_hour_df,prev_week_df,prev_2_week_df):\n",
    "    curr_hour_week_num = get_date(curr_hour_df['TimeStamp'][0]).isocalendar()[1] if len(curr_hour_df) > 0 else -1\n",
    "    prev_week_num = get_date(prev_week_df['TimeStamp'][0]).isocalendar()[1] if len(prev_week_df) > 0 else -1\n",
    "    prev_2_week_num = get_date(prev_2_week_df['TimeStamp'][0]).isocalendar()[1] if len(prev_2_week_df) > 0 else -1\n",
    "    print(curr_hour_week_num,prev_week_num,prev_2_week_num)\n",
    "    return curr_hour_week_num,prev_week_num,prev_2_week_num"
   ]
  },
  {
   "cell_type": "code",
   "execution_count": 96,
   "metadata": {},
   "outputs": [],
   "source": [
    "def get_bar_data(curr_hour_df,prev_week_df,prev_2_week_df):\n",
    "    res = {\"x\":\"Week1,Week2,CurrentHour\"}\n",
    "    print(get_week_number(curr_hour_df,prev_week_df,prev_2_week_df))\n",
    "    curr_hour_week_num,prev_week_num,prev_2_week_num = get_week_number(curr_hour_df,prev_week_df,prev_2_week_df)\n",
    "    db_res = {\n",
    "        \"x\": [curr_hour_week_num,prev_week_num,prev_2_week_num],\n",
    "    }\n",
    "    for i in kpi:\n",
    "        l = []\n",
    "        prev_week_avg = np.round(prev_week_df[i].mean(),4) if not np.isnan(prev_week_df[i].mean()) else 0.00\n",
    "        prev_2_week_avg = np.round(prev_2_week_df[i].mean(),4) if not np.isnan(prev_2_week_df[i].mean()) else 0.00\n",
    "        curr_hour_avg = np.round(curr_hour_df[i].mean(),4) if not np.isnan(curr_hour_df[i].mean()) else 0.00\n",
    "        l.append(str(prev_week_avg))\n",
    "        l.append(str(prev_2_week_avg))\n",
    "        l.append(str(curr_hour_avg))\n",
    "        db_res[i] = [curr_hour_avg,prev_week_avg,prev_2_week_avg,]\n",
    "        s = \",\".join(l)\n",
    "        res[i]= s\n",
    "    return res,db_res"
   ]
  },
  {
   "cell_type": "code",
   "execution_count": 121,
   "metadata": {},
   "outputs": [],
   "source": [
    "def table_exists(table_name):\n",
    "    query = \"SELECT * FROM sqlite_master WHERE type='table' AND name=?;\"\n",
    "    cur.execute(query, (table_name,))\n",
    "    result = cur.fetchone()\n",
    "    return result is not None"
   ]
  },
  {
   "cell_type": "code",
   "execution_count": 164,
   "metadata": {},
   "outputs": [],
   "source": [
    "def generate_plant_data(col_list):\n",
    "    cols = []\n",
    "    for i in col_list:\n",
    "        cols.append(i + \" REAL Default 0\")\n",
    "    query1 = f'''\n",
    "        CREATE TABLE IF Not Exists PlantData\n",
    "        (\n",
    "            Id INTEGER PRIMARY KEY,\n",
    "            Week Text Not Null,\n",
    "            WeekStart DateTime Default \"1999-01-01 00:00:00\",\n",
    "            WeekEnd DateTime Default \"1999-01-01 00:00:00\",\n",
    "            {\", \".join(cols)}\n",
    "        )\n",
    "    '''\n",
    "    \n",
    "    query2 = f'''\n",
    "        INSERT INTO PlantData (Week) VALUES (\"w1\"),(\"w2\"),(\"h\")\n",
    "    '''\n",
    "    try:\n",
    "        cur.execute(query1)\n",
    "        print(\"Table created\")\n",
    "        cur.execute(query2)\n",
    "        conn.commit()\n",
    "        print(\"Data inserted\")\n",
    "    except Exception as e:\n",
    "        print(e)\n",
    "        raise\n"
   ]
  },
  {
   "cell_type": "code",
   "execution_count": 167,
   "metadata": {},
   "outputs": [
    {
     "name": "stdout",
     "output_type": "stream",
     "text": [
      "no such table: PlantData\n"
     ]
    },
    {
     "ename": "OperationalError",
     "evalue": "no such table: PlantData",
     "output_type": "error",
     "traceback": [
      "\u001b[1;31m---------------------------------------------------------------------------\u001b[0m",
      "\u001b[1;31mOperationalError\u001b[0m                          Traceback (most recent call last)",
      "Cell \u001b[1;32mIn[167], line 1\u001b[0m\n\u001b[1;32m----> 1\u001b[0m \u001b[43mtruncate_table\u001b[49m\u001b[43m(\u001b[49m\u001b[38;5;124;43m\"\u001b[39;49m\u001b[38;5;124;43mDrop\u001b[39;49m\u001b[38;5;124;43m\"\u001b[39;49m\u001b[43m,\u001b[49m\u001b[38;5;124;43m\"\u001b[39;49m\u001b[38;5;124;43mPlantData\u001b[39;49m\u001b[38;5;124;43m\"\u001b[39;49m\u001b[43m)\u001b[49m\n",
      "Cell \u001b[1;32mIn[166], line 4\u001b[0m, in \u001b[0;36mtruncate_table\u001b[1;34m(cmd, name)\u001b[0m\n\u001b[0;32m      2\u001b[0m \u001b[38;5;28;01mtry\u001b[39;00m:\n\u001b[0;32m      3\u001b[0m     q \u001b[38;5;241m=\u001b[39m \u001b[38;5;124mf\u001b[39m\u001b[38;5;124m\"\u001b[39m\u001b[38;5;124mDROP TABLE \u001b[39m\u001b[38;5;132;01m{\u001b[39;00mname\u001b[38;5;132;01m}\u001b[39;00m\u001b[38;5;124m\"\u001b[39m \u001b[38;5;28;01mif\u001b[39;00m cmd \u001b[38;5;241m==\u001b[39m \u001b[38;5;124m'\u001b[39m\u001b[38;5;124mDrop\u001b[39m\u001b[38;5;124m'\u001b[39m \u001b[38;5;28;01melse\u001b[39;00m \u001b[38;5;124mf\u001b[39m\u001b[38;5;124m\"\u001b[39m\u001b[38;5;124mDELETE FROM \u001b[39m\u001b[38;5;132;01m{\u001b[39;00mname\u001b[38;5;132;01m}\u001b[39;00m\u001b[38;5;124m\"\u001b[39m\n\u001b[1;32m----> 4\u001b[0m     \u001b[43mcur\u001b[49m\u001b[38;5;241;43m.\u001b[39;49m\u001b[43mexecute\u001b[49m\u001b[43m(\u001b[49m\u001b[43mq\u001b[49m\u001b[43m)\u001b[49m\n\u001b[0;32m      5\u001b[0m     conn\u001b[38;5;241m.\u001b[39mcommit()\n\u001b[0;32m      6\u001b[0m \u001b[38;5;28;01mexcept\u001b[39;00m \u001b[38;5;167;01mException\u001b[39;00m \u001b[38;5;28;01mas\u001b[39;00m e:\n",
      "\u001b[1;31mOperationalError\u001b[0m: no such table: PlantData"
     ]
    }
   ],
   "source": [
    "truncate_table(\"Drop\",\"PlantData\")"
   ]
  },
  {
   "cell_type": "code",
   "execution_count": 195,
   "metadata": {},
   "outputs": [],
   "source": [
    "def check_week_data(cols):\n",
    "    query = f'''SELECT {\", \".join(cols)} FROM PlantData WHERE Week IN ('w1', 'w2')'''\n",
    "    row = cur.execute(query)\n",
    "    rows = row.fetchall()\n",
    "    df = pd.DataFrame(rows)\n",
    "    df_sum_1 = df.iloc[0].sum()\n",
    "    df_sum_2 = df.iloc[1].sum()\n",
    "    return True if df_sum_1 > 0 and df_sum_2 > 0 else False"
   ]
  },
  {
   "cell_type": "code",
   "execution_count": null,
   "metadata": {},
   "outputs": [],
   "source": [
    "def get_current_week_range(current_date):\n",
    "    current_week_start = current_date - timedelta(days=current_date.weekday())\n",
    "    current_week_end = current_date + timedelta(days=6-current_date.weekday()) + timedelta(seconds=86399)\n",
    "    return current_week_start,current_week_end"
   ]
  },
  {
   "cell_type": "code",
   "execution_count": null,
   "metadata": {},
   "outputs": [],
   "source": [
    "def calculate_data(d,is_week_data):\n",
    "    d = get_date('2024-09-12 00:10:00')\n",
    "    current_hour, prev_hour_start = get_current_hour_range(d)\n",
    "    current_week_start,current_week_end= get_current_week_range(d)\n",
    "    curr_hour_data = fetch_data_within_range(prev_hour_start,current_hour)\n",
    "    if not is_week_data:\n",
    "        prev_week_start,prev_week_end = get_prev_week_range(current_week_start)\n",
    "        prev_2_week_start,prev_2_week_end = get_prev_week_range(prev_week_start)\n",
    "        prev_week_data = fetch_data_within_range(prev_week_start,prev_week_end)\n",
    "        prev_2_week_data = fetch_data_within_range(prev_2_week_start,prev_2_week_end)\n",
    "        "
   ]
  },
  {
   "cell_type": "code",
   "execution_count": 196,
   "metadata": {},
   "outputs": [
    {
     "name": "stdout",
     "output_type": "stream",
     "text": [
      "0    0.0\n",
      "1    0.0\n",
      "2    0.0\n",
      "3    0.0\n",
      "Name: 0, dtype: float64\n",
      "0    0.0\n",
      "1    0.0\n",
      "2    0.0\n",
      "3    0.0\n",
      "Name: 1, dtype: float64\n",
      "False\n"
     ]
    }
   ],
   "source": [
    "def dump_hourly_data(d):\n",
    "    if not table_exists(\"PlantData\"):\n",
    "        generate_plant_data(kpi)\n",
    "    is_week_data = check_week_data(kpi)\n",
    "    calculate_data(d,is_week_data)\n",
    "\n",
    "    \n",
    "        \n",
    "\n",
    "    \n",
    "\n",
    "    \n",
    "dump_hourly_data(curr_hour_df)\n",
    "        "
   ]
  },
  {
   "cell_type": "code",
   "execution_count": 191,
   "metadata": {},
   "outputs": [
    {
     "name": "stdout",
     "output_type": "stream",
     "text": [
      "     0    1    2    3\n",
      "0  0.0  0.0  0.0  0.0\n",
      "1  0.0  0.0  0.0  0.0\n",
      "0    0.0\n",
      "1    0.0\n",
      "2    0.0\n",
      "3    0.0\n",
      "dtype: float64 0    0.0\n",
      "1    0.0\n",
      "2    0.0\n",
      "3    0.0\n",
      "dtype: float64\n"
     ]
    }
   ],
   "source": []
  },
  {
   "cell_type": "code",
   "execution_count": 97,
   "metadata": {},
   "outputs": [
    {
     "name": "stdout",
     "output_type": "stream",
     "text": [
      "36 35 -1\n",
      "(36, 35, -1)\n",
      "36 35 -1\n"
     ]
    }
   ],
   "source": [
    "bar_data,bar_data_dict = get_bar_data(curr_hour_df,prev_week_df,prev_2_week_df)"
   ]
  },
  {
   "cell_type": "code",
   "execution_count": 48,
   "metadata": {},
   "outputs": [
    {
     "data": {
      "text/plain": [
       "{'x': 'Week1,Week2,CurrentHour',\n",
       " 'KPI1': '50.4997,0.0,50.495',\n",
       " 'KPI2': '32.4991,0.0,32.5056',\n",
       " 'KPI3': '1.5003,0.0,1.502',\n",
       " 'KPI4': '497.4962,0.0,497.4623'}"
      ]
     },
     "execution_count": 48,
     "metadata": {},
     "output_type": "execute_result"
    }
   ],
   "source": [
    "bar_data"
   ]
  },
  {
   "cell_type": "code",
   "execution_count": 49,
   "metadata": {},
   "outputs": [
    {
     "data": {
      "text/plain": [
       "{'x': ['Week1', 'Week2', 'CurrentHour'],\n",
       " 'KPI1': [np.float64(50.4997), 0.0, np.float64(50.495)],\n",
       " 'KPI2': [np.float64(32.4991), 0.0, np.float64(32.5056)],\n",
       " 'KPI3': [np.float64(1.5003), 0.0, np.float64(1.502)],\n",
       " 'KPI4': [np.float64(497.4962), 0.0, np.float64(497.4623)]}"
      ]
     },
     "execution_count": 49,
     "metadata": {},
     "output_type": "execute_result"
    }
   ],
   "source": [
    "bar_data_dict"
   ]
  },
  {
   "cell_type": "code",
   "execution_count": 50,
   "metadata": {},
   "outputs": [],
   "source": [
    "def dump_data_db(df,table):\n",
    "    try:\n",
    "        df.to_sql(table,conn)\n",
    "\n",
    "    except sql.Error as e:\n",
    "        print(e)\n",
    "        raise"
   ]
  },
  {
   "cell_type": "code",
   "execution_count": 98,
   "metadata": {},
   "outputs": [],
   "source": [
    "def dump_bar(d):\n",
    "    print(d)\n",
    "    print(pd.DataFrame(d,columns=d[\"x\"]))\n",
    "    return pd.DataFrame(d)"
   ]
  },
  {
   "cell_type": "code",
   "execution_count": 99,
   "metadata": {},
   "outputs": [
    {
     "name": "stdout",
     "output_type": "stream",
     "text": [
      "{'x': [36, 35, -1], 'KPI1': [np.float64(50.495), np.float64(50.4997), 0.0], 'KPI2': [np.float64(32.5056), np.float64(32.4991), 0.0], 'KPI3': [np.float64(1.502), np.float64(1.5003), 0.0], 'KPI4': [np.float64(497.4623), np.float64(497.4962), 0.0]}\n",
      "Empty DataFrame\n",
      "Columns: [36, 35, -1]\n",
      "Index: []\n"
     ]
    },
    {
     "data": {
      "text/html": [
       "<div>\n",
       "<style scoped>\n",
       "    .dataframe tbody tr th:only-of-type {\n",
       "        vertical-align: middle;\n",
       "    }\n",
       "\n",
       "    .dataframe tbody tr th {\n",
       "        vertical-align: top;\n",
       "    }\n",
       "\n",
       "    .dataframe thead th {\n",
       "        text-align: right;\n",
       "    }\n",
       "</style>\n",
       "<table border=\"1\" class=\"dataframe\">\n",
       "  <thead>\n",
       "    <tr style=\"text-align: right;\">\n",
       "      <th></th>\n",
       "      <th>x</th>\n",
       "      <th>KPI1</th>\n",
       "      <th>KPI2</th>\n",
       "      <th>KPI3</th>\n",
       "      <th>KPI4</th>\n",
       "    </tr>\n",
       "  </thead>\n",
       "  <tbody>\n",
       "    <tr>\n",
       "      <th>0</th>\n",
       "      <td>36</td>\n",
       "      <td>50.4950</td>\n",
       "      <td>32.5056</td>\n",
       "      <td>1.5020</td>\n",
       "      <td>497.4623</td>\n",
       "    </tr>\n",
       "    <tr>\n",
       "      <th>1</th>\n",
       "      <td>35</td>\n",
       "      <td>50.4997</td>\n",
       "      <td>32.4991</td>\n",
       "      <td>1.5003</td>\n",
       "      <td>497.4962</td>\n",
       "    </tr>\n",
       "    <tr>\n",
       "      <th>2</th>\n",
       "      <td>-1</td>\n",
       "      <td>0.0000</td>\n",
       "      <td>0.0000</td>\n",
       "      <td>0.0000</td>\n",
       "      <td>0.0000</td>\n",
       "    </tr>\n",
       "  </tbody>\n",
       "</table>\n",
       "</div>"
      ],
      "text/plain": [
       "    x     KPI1     KPI2    KPI3      KPI4\n",
       "0  36  50.4950  32.5056  1.5020  497.4623\n",
       "1  35  50.4997  32.4991  1.5003  497.4962\n",
       "2  -1   0.0000   0.0000  0.0000    0.0000"
      ]
     },
     "execution_count": 99,
     "metadata": {},
     "output_type": "execute_result"
    }
   ],
   "source": [
    "dump_bar(bar_data_dict)"
   ]
  }
 ],
 "metadata": {
  "kernelspec": {
   "display_name": "pandas-venv",
   "language": "python",
   "name": "python3"
  },
  "language_info": {
   "codemirror_mode": {
    "name": "ipython",
    "version": 3
   },
   "file_extension": ".py",
   "mimetype": "text/x-python",
   "name": "python",
   "nbconvert_exporter": "python",
   "pygments_lexer": "ipython3",
   "version": "3.12.4"
  }
 },
 "nbformat": 4,
 "nbformat_minor": 2
}
