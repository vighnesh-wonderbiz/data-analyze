{
 "cells": [
  {
   "cell_type": "code",
   "execution_count": 477,
   "metadata": {},
   "outputs": [],
   "source": [
    "import pandas as pd\n",
    "import numpy as np\n",
    "import random\n",
    "import sqlite3 as sql\n",
    "from datetime import datetime, timedelta\n",
    "import os"
   ]
  },
  {
   "cell_type": "code",
   "execution_count": 478,
   "metadata": {},
   "outputs": [],
   "source": [
    "conn = sql.connect(\"el.db\")\n",
    "cur = conn.cursor()"
   ]
  },
  {
   "cell_type": "code",
   "execution_count": 479,
   "metadata": {},
   "outputs": [],
   "source": [
    "db_col = [\"Index\",\"EName\",\"KPI1\",\"KPI2\",\"KPI3\",\"KPI4\",\"TimeStamp\"]\n",
    "kpi = [\"KPI1\",\"KPI2\",\"KPI3\",\"KPI4\"]\n",
    "is_monday = True\n",
    "d = \"2024-09-15 22:00:00\"\n",
    "plant_data_col = [\"Week\",\"WeekStart\",\"WeekEnd\",\"IsUpdated\",*kpi]"
   ]
  },
  {
   "cell_type": "code",
   "execution_count": 480,
   "metadata": {},
   "outputs": [],
   "source": [
    "def truncate_table(cmd,name):\n",
    "    try:\n",
    "        q = f\"DROP TABLE {name}\" if cmd == 'Drop' else f\"DELETE FROM {name}\"\n",
    "        cur.execute(q)\n",
    "        conn.commit()\n",
    "    except Exception as e:\n",
    "        print(e)\n",
    "        raise"
   ]
  },
  {
   "cell_type": "code",
   "execution_count": 498,
   "metadata": {},
   "outputs": [],
   "source": [
    "# truncate_table('Drop','PlantData')"
   ]
  },
  {
   "cell_type": "code",
   "execution_count": 482,
   "metadata": {},
   "outputs": [],
   "source": [
    "def get_date(date):\n",
    "    currDate = datetime.strptime(date, '%Y-%m-%d %H:%M:%S')\n",
    "    return currDate"
   ]
  },
  {
   "cell_type": "code",
   "execution_count": 483,
   "metadata": {},
   "outputs": [],
   "source": [
    "def fetch_data_within_range(start,end):\n",
    "    try:\n",
    "        d = cur.execute(f\"SELECT * from Transactions WHERE TimeStamp BETWEEN '{start}' AND '{end}';\")\n",
    "        selected_data = d.fetchall()\n",
    "        df = pd.DataFrame(selected_data,columns=[\"Index\",\"EName\",*kpi,\"TimeStamp\"])\n",
    "        return df\n",
    "    except sql.Error as e:\n",
    "        print(e)\n",
    "        return []"
   ]
  },
  {
   "cell_type": "code",
   "execution_count": 484,
   "metadata": {},
   "outputs": [],
   "source": [
    "def get_current_week_range(current_date):\n",
    "    current_date = current_date.replace(hour=0, minute=0, second=0, microsecond=0) \n",
    "    current_week_start = current_date - timedelta(days=current_date.weekday()) if is_monday else current_date\n",
    "    current_week_end = current_week_start  + timedelta(days=6, hours=23, minutes=59, seconds=59)\n",
    "    return current_week_start,current_week_end"
   ]
  },
  {
   "cell_type": "code",
   "execution_count": 485,
   "metadata": {},
   "outputs": [],
   "source": [
    "def get_prev_week_range(curr_week_start):\n",
    "    curr_week_start = curr_week_start.replace(hour=0, minute=0, second=0, microsecond=0)\n",
    "    prev_week_start = curr_week_start - timedelta(weeks=1)\n",
    "    prev_week_end = curr_week_start - timedelta(seconds=1)\n",
    "    return prev_week_start,prev_week_end"
   ]
  },
  {
   "cell_type": "code",
   "execution_count": 486,
   "metadata": {},
   "outputs": [],
   "source": [
    "def get_current_hour_range(current_hour):\n",
    "    current_hour = current_hour.replace(minute=0, second=0, microsecond=0)\n",
    "    prev_hour_end = current_hour - timedelta(hours=1)\n",
    "    return current_hour,prev_hour_end"
   ]
  },
  {
   "cell_type": "code",
   "execution_count": 487,
   "metadata": {},
   "outputs": [],
   "source": [
    "def table_exists(table_name):\n",
    "    query = \"SELECT * FROM sqlite_master WHERE type='table' AND name=?;\"\n",
    "    cur.execute(query, (table_name,))\n",
    "    result = cur.fetchone()\n",
    "    return result is not None"
   ]
  },
  {
   "cell_type": "code",
   "execution_count": 488,
   "metadata": {},
   "outputs": [],
   "source": [
    "def generate_plant_data(col_list):\n",
    "    cols = []\n",
    "    for i in col_list:\n",
    "        cols.append(i + \" REAL Default 0\")\n",
    "    query1 = f'''\n",
    "        CREATE TABLE IF Not Exists PlantData\n",
    "        (\n",
    "            Id INTEGER PRIMARY KEY,\n",
    "            Week TEXT NOT NULL,\n",
    "            WeekStart DATETIME DEFAULT \"1999-01-01 00:00:00\",\n",
    "            WeekEnd DATETIME DEFAULT \"1999-01-01 00:00:00\",\n",
    "            IsUpdated BOOLEAN DEFAULT FALSE,\n",
    "            {\", \".join(cols)}\n",
    "        )\n",
    "    '''\n",
    "    \n",
    "    query2 = f'''\n",
    "        INSERT INTO PlantData (Week) VALUES (\"w1\"),(\"w2\"),(\"h\")\n",
    "    '''\n",
    "    try:\n",
    "        cur.execute(query1)\n",
    "        print(\"Table created\")\n",
    "        cur.execute(query2)\n",
    "        conn.commit()\n",
    "        print(\"Data inserted\")\n",
    "    except Exception as e:\n",
    "        print(e)\n",
    "        conn.rollback()\n",
    "        raise\n"
   ]
  },
  {
   "cell_type": "code",
   "execution_count": 489,
   "metadata": {},
   "outputs": [],
   "source": [
    "def check_week_data():\n",
    "    query = f'''SELECT IsUpdated, {\", \".join(kpi)} FROM PlantData WHERE Week IN ('w1', 'w2')'''\n",
    "    row = cur.execute(query)\n",
    "    rows = row.fetchall()\n",
    "    df = pd.DataFrame(rows)\n",
    "    return True if df.loc[0,0] and df.loc[1,0] else False"
   ]
  },
  {
   "cell_type": "code",
   "execution_count": 490,
   "metadata": {},
   "outputs": [],
   "source": [
    "def calculate_mean(data):\n",
    "    kpi_avg = np.round((data[kpi].mean()).infer_objects(copy=False).fillna(0),2).tolist()\n",
    "    return kpi_avg"
   ]
  },
  {
   "cell_type": "code",
   "execution_count": 491,
   "metadata": {},
   "outputs": [],
   "source": [
    "def fetch_weekly_data(d):\n",
    "    print(\"Fetching week data\")\n",
    "    df = pd.DataFrame(columns=plant_data_col)\n",
    "    current_week_start,_= get_current_week_range(d)\n",
    "    for i in ['w1','w2']:\n",
    "        data_l = []\n",
    "        prev_week_start,prev_week_end = get_prev_week_range(current_week_start)\n",
    "        print(f\"Fetching {i}\",prev_week_start,prev_week_end)\n",
    "        prev_week_data = fetch_data_within_range(prev_week_start,prev_week_end)\n",
    "        calculated_mean = calculate_mean(prev_week_data)\n",
    "        data_l.extend([i,prev_week_start,prev_week_end,True])\n",
    "        data_l.extend(calculated_mean)\n",
    "        current_week_start = prev_week_start\n",
    "        df.loc[len(df)] = data_l\n",
    "        print(f\"{i} fetched\")\n",
    "    return df"
   ]
  },
  {
   "cell_type": "code",
   "execution_count": 492,
   "metadata": {},
   "outputs": [],
   "source": [
    "def fetch_hourly_data(d):\n",
    "    df = pd.DataFrame(columns=plant_data_col)\n",
    "    data_l = []\n",
    "    current_hour, prev_hour_start = get_current_hour_range(d)\n",
    "    current_week_start,current_week_end= get_current_week_range(d)\n",
    "    _,prev_week_end = get_prev_week_range(current_week_start)\n",
    "    print(\"Fetching hourly data\",current_week_start,current_week_end)\n",
    "    curr_hour_data = fetch_data_within_range(prev_hour_start,current_hour)\n",
    "    calculated_mean = calculate_mean(curr_hour_data)\n",
    "    data_l.extend(['h',current_week_start,current_week_end,True])\n",
    "    data_l.extend(calculated_mean)\n",
    "    df.loc[len(df)] = data_l\n",
    "    \n",
    "    if current_hour >= prev_week_end + timedelta(seconds=1):\n",
    "        print(\"Week end\")\n",
    "        week_df = fetch_weekly_data(d)\n",
    "        df = pd.concat([week_df,df],ignore_index=True)\n",
    "    return df"
   ]
  },
  {
   "cell_type": "code",
   "execution_count": 493,
   "metadata": {},
   "outputs": [],
   "source": [
    "def get_data_hourly(d):\n",
    "    d = get_date(d)\n",
    "    \n",
    "    if not table_exists(\"PlantData\"):\n",
    "        generate_plant_data(kpi)\n",
    "    \n",
    "    curr_df = fetch_hourly_data(d)\n",
    "    \n",
    "    if len(curr_df) < 2 and not check_week_data():\n",
    "        week_df = fetch_weekly_data(d)\n",
    "        df = pd.concat([week_df,curr_df],ignore_index=True)\n",
    "        return df\n",
    "    return curr_df"
   ]
  },
  {
   "cell_type": "code",
   "execution_count": 496,
   "metadata": {},
   "outputs": [],
   "source": [
    "def dump_data(df):\n",
    "    try:\n",
    "        if len(df) > 1:\n",
    "            query_1 = 'DELETE FROM PlantData'\n",
    "            cur.execute(query_1)\n",
    "            df.to_sql(\"PlantData\",conn,if_exists='replace')\n",
    "        else:\n",
    "            query_1 = '''\n",
    "                DELETE FROM PlantData\n",
    "                WHERE Week = 'h';\n",
    "            '''\n",
    "            cur.execute(query_1)\n",
    "            df.to_sql('PlantData',conn,if_exists='append')\n",
    "        conn.commit()\n",
    "    except sql.Error as e:\n",
    "        print(e)\n",
    "        conn.rollback()\n",
    "        raise\n"
   ]
  },
  {
   "cell_type": "code",
   "execution_count": 494,
   "metadata": {},
   "outputs": [
    {
     "name": "stdout",
     "output_type": "stream",
     "text": [
      "Fetching hourly data 2024-09-09 00:00:00 2024-09-15 23:59:59\n",
      "Week end\n",
      "Fetching week data\n",
      "Fetching w1 2024-09-02 00:00:00 2024-09-08 23:59:59\n"
     ]
    }
   ],
   "source": [
    "bar_df = get_data_hourly(d)"
   ]
  },
  {
   "cell_type": "code",
   "execution_count": 495,
   "metadata": {},
   "outputs": [
    {
     "data": {
      "text/html": [
       "<div>\n",
       "<style scoped>\n",
       "    .dataframe tbody tr th:only-of-type {\n",
       "        vertical-align: middle;\n",
       "    }\n",
       "\n",
       "    .dataframe tbody tr th {\n",
       "        vertical-align: top;\n",
       "    }\n",
       "\n",
       "    .dataframe thead th {\n",
       "        text-align: right;\n",
       "    }\n",
       "</style>\n",
       "<table border=\"1\" class=\"dataframe\">\n",
       "  <thead>\n",
       "    <tr style=\"text-align: right;\">\n",
       "      <th></th>\n",
       "      <th>Week</th>\n",
       "      <th>WeekStart</th>\n",
       "      <th>WeekEnd</th>\n",
       "      <th>IsUpdated</th>\n",
       "      <th>KPI1</th>\n",
       "      <th>KPI2</th>\n",
       "      <th>KPI3</th>\n",
       "      <th>KPI4</th>\n",
       "    </tr>\n",
       "  </thead>\n",
       "  <tbody>\n",
       "    <tr>\n",
       "      <th>0</th>\n",
       "      <td>w1</td>\n",
       "      <td>2024-09-02</td>\n",
       "      <td>2024-09-08 23:59:59</td>\n",
       "      <td>True</td>\n",
       "      <td>50.50</td>\n",
       "      <td>32.5</td>\n",
       "      <td>1.5</td>\n",
       "      <td>497.5</td>\n",
       "    </tr>\n",
       "    <tr>\n",
       "      <th>1</th>\n",
       "      <td>w2</td>\n",
       "      <td>2024-08-26</td>\n",
       "      <td>2024-09-01 23:59:59</td>\n",
       "      <td>True</td>\n",
       "      <td>50.50</td>\n",
       "      <td>32.5</td>\n",
       "      <td>1.5</td>\n",
       "      <td>497.5</td>\n",
       "    </tr>\n",
       "    <tr>\n",
       "      <th>2</th>\n",
       "      <td>h</td>\n",
       "      <td>2024-09-09</td>\n",
       "      <td>2024-09-15 23:59:59</td>\n",
       "      <td>True</td>\n",
       "      <td>50.51</td>\n",
       "      <td>32.5</td>\n",
       "      <td>1.5</td>\n",
       "      <td>497.5</td>\n",
       "    </tr>\n",
       "  </tbody>\n",
       "</table>\n",
       "</div>"
      ],
      "text/plain": [
       "  Week  WeekStart             WeekEnd  IsUpdated   KPI1  KPI2  KPI3   KPI4\n",
       "0   w1 2024-09-02 2024-09-08 23:59:59       True  50.50  32.5   1.5  497.5\n",
       "1   w2 2024-08-26 2024-09-01 23:59:59       True  50.50  32.5   1.5  497.5\n",
       "2    h 2024-09-09 2024-09-15 23:59:59       True  50.51  32.5   1.5  497.5"
      ]
     },
     "execution_count": 495,
     "metadata": {},
     "output_type": "execute_result"
    }
   ],
   "source": [
    "bar_df.head()"
   ]
  },
  {
   "cell_type": "code",
   "execution_count": 497,
   "metadata": {},
   "outputs": [],
   "source": [
    "dump_data(bar_df)"
   ]
  }
 ],
 "metadata": {
  "kernelspec": {
   "display_name": "pandas-venv",
   "language": "python",
   "name": "python3"
  },
  "language_info": {
   "codemirror_mode": {
    "name": "ipython",
    "version": 3
   },
   "file_extension": ".py",
   "mimetype": "text/x-python",
   "name": "python",
   "nbconvert_exporter": "python",
   "pygments_lexer": "ipython3",
   "version": "3.12.4"
  }
 },
 "nbformat": 4,
 "nbformat_minor": 2
}
